{
 "cells": [
  {
   "cell_type": "code",
   "execution_count": 2,
   "id": "b710002d-0bf6-43ac-9caa-ff1dc5df9740",
   "metadata": {},
   "outputs": [],
   "source": [
    "#1ues\n",
    "#Statistics is field of study that involves collecting, analyzing, interpreting, presenting, and organizing data"
   ]
  },
  {
   "cell_type": "code",
   "execution_count": 3,
   "id": "6c52d043-18ec-416a-be11-b31208f35181",
   "metadata": {},
   "outputs": [],
   "source": [
    "#2 que\n",
    "#Descriptive Statistics: Descriptive statistics involve summarizing and presenting the main features of a dataset.\n",
    "#This includes measures such as the mean, median, mode, range, variance, and standard deviation. Descriptive \n",
    "#statistics provide a snapshot of the data's central tendency and spread.\n",
    "\n",
    "#Inferential Statistics: Inferential statistics involve making predictions or generalizations about a larger\n",
    "#population based on a sample of data. Techniques like hypothesis testing, confidence intervals, and regression\n",
    "#analysis are used to draw conclusions from a smaller subset of data."
   ]
  },
  {
   "cell_type": "code",
   "execution_count": 4,
   "id": "51a8820f-4c86-4e99-a3cf-b74c49cdbdb8",
   "metadata": {},
   "outputs": [],
   "source": [
    "#3que\n",
    "#types of data-\n",
    "#1. Nominal Data:\n",
    "#Nominal data are categorical data where the values represent different categories or groups. There is no inherent\n",
    "#order or ranking among the categories.Examples: Gender (male, female), Eye color (blue, brown, green), Marital\n",
    "#status (single, married, divorced).\n",
    "\n",
    "#2. Ordinal Data-\n",
    "#Ordinal data are categorical data with an inherent order or ranking among the categories. The differences between\n",
    "#categories are not precisely quantifiable.Examples: Education levels (high school, college, graduate), \n",
    "#Likert scale responses (strongly agree, agree, neutral, disagree, strongly disagree)\n",
    "\n",
    "#3.Interval Data-\n",
    "#Interval data are numeric data where the differences between values are meaningful, and a zero point is arbitrary.\n",
    "#Ratios between values are not meaningful.Examples: Temperature in Celsius or Fahrenheit (20°C, 30°C), \n",
    "#Years (1990, 2000, 2010), IQ scores, Calendar months (January, February, March).\n",
    "\n",
    "#4.Ratio Data-\n",
    "#Ratio data are numeric data with a true zero point, where ratios between values are meaningful and comparable.\n",
    "#This type of data supports arithmetic operations. Examples: Height (in inches or centimeters),\n",
    "#Weight (in pounds or kilograms), Age (in years), Income (in dollars), Distance (in meters).    "
   ]
  },
  {
   "cell_type": "code",
   "execution_count": 5,
   "id": "0e168b79-7612-42c1-8aee-eef95cf6c81f",
   "metadata": {},
   "outputs": [],
   "source": [
    "#4que\n",
    "#      (i) Grading in exam: A+, A, B+, B, C+, C, D, E                    -  ordinal data\n",
    "#      (ii) Colour of mangoes: yellow, green, orange, red                -  nominal data\n",
    "#      (iii) Height data of a class: [178.9, 179, 179.5, 176]            - Ratio data\n",
    "#      (iv) Number of mangoes exported by a farm: [500, 600, 478, 672,]  - Ratio data \n"
   ]
  },
  {
   "cell_type": "code",
   "execution_count": 6,
   "id": "c0cb45ed-1940-4117-bc33-1aac9b3ebfc4",
   "metadata": {},
   "outputs": [],
   "source": [
    "#5que\n",
    "#Nominal Level:  Eye colors (blue, brown, green)\n",
    "#Ordinal Level:  Education levels (high school, college, graduate)\n",
    "#Interval Level: Temperature in Celsius or Fahrenheit (20°C, 30°C)\n",
    "#Ratio Level:    Height (in inches or centimeters)"
   ]
  },
  {
   "cell_type": "code",
   "execution_count": 7,
   "id": "45208a4f-f79d-4ed7-a8e1-958b910b6d72",
   "metadata": {},
   "outputs": [],
   "source": [
    "#6que\n",
    "#Understanding the level of measurement is crucial when analyzing data because it determines the types of\n",
    "#statistical analyses that can be appropriately applied to the data\n",
    "#   Incorrect Analysis for Ordinal Data\n",
    "#Suppose we want to calculate the mean (average) education level. Since education levels are ordinal, calculating \n",
    "#the mean doesn't make sense because we can't assign meaningful numeric values to the categories. Treating them as\n",
    "#numeric values could lead to incorrect results. In this case, calculating the mean would be inappropriate."
   ]
  },
  {
   "cell_type": "code",
   "execution_count": 8,
   "id": "d858654f-07f9-4b80-aac3-5d95dc93218f",
   "metadata": {},
   "outputs": [],
   "source": [
    "#7que\n",
    "#nominal data represent categories without an order or ranking, while ordinal data represent categories with \n",
    "#a meaningful order"
   ]
  },
  {
   "cell_type": "code",
   "execution_count": 9,
   "id": "fb755cbd-0bd4-4491-8e75-0c044dbce827",
   "metadata": {},
   "outputs": [],
   "source": [
    "#8que\n",
    "#A type of plot that can be used to display data in terms of range is a box plot. A box plot provides a visual\n",
    "#summary of the distribution of a dataset, highlighting the minimum,first quartile (25th percentile), \n",
    "#median (50th percentile), third quartile (75th percentile), and maximum values. It also shows potential outliers \n",
    "#beyond the upper and lower whiskers."
   ]
  },
  {
   "cell_type": "code",
   "execution_count": 10,
   "id": "dfa1f390-8082-4f88-a117-9f6f58f8efed",
   "metadata": {},
   "outputs": [],
   "source": [
    "#9ues\n",
    "#Descriptive Statistics: Descriptive statistics involve summarizing and presenting the main features of a dataset.\n",
    "#This includes measures such as the mean, median, mode, range, variance, and standard deviation. Descriptive \n",
    "#statistics provide a snapshot of the data's central tendency and spread.\n",
    "\n",
    "#Inferential Statistics: Inferential statistics involve making predictions or generalizations about a larger\n",
    "#population based on a sample of data. Techniques like hypothesis testing, confidence intervals, and regression\n",
    "#analysis are used to draw conclusions from a smaller subset of data."
   ]
  },
  {
   "cell_type": "code",
   "execution_count": null,
   "id": "7fe0f123-95cf-41e8-9f7c-9426356767c0",
   "metadata": {},
   "outputs": [],
   "source": [
    "Measures of Central Tendency:\n",
    "Mean- The mean is the average of all the data points in a dataset. It's calculated by summing up all the values and\n",
    "then dividing by the total number of values.\n",
    "Median-The median is the middle value when the dataset is ordered from least to greatest.\n",
    "Mode-The mode is the value that appears most frequently in the dataset.\n",
    "\n",
    "Measures of Variability:\n",
    "Range- The range is the difference between the maximum and minimum values in a dataset.\n",
    "Variance- Variance measures the average of the squared differences between each data point and the mean of dataset.\n",
    "\n",
    "\n",
    "    \n",
    "\n"
   ]
  }
 ],
 "metadata": {
  "kernelspec": {
   "display_name": "Python 3 (ipykernel)",
   "language": "python",
   "name": "python3"
  },
  "language_info": {
   "codemirror_mode": {
    "name": "ipython",
    "version": 3
   },
   "file_extension": ".py",
   "mimetype": "text/x-python",
   "name": "python",
   "nbconvert_exporter": "python",
   "pygments_lexer": "ipython3",
   "version": "3.10.8"
  }
 },
 "nbformat": 4,
 "nbformat_minor": 5
}
